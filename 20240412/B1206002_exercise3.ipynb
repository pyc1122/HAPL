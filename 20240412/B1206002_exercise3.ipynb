{
  "nbformat": 4,
  "nbformat_minor": 0,
  "metadata": {
    "colab": {
      "provenance": []
    },
    "kernelspec": {
      "name": "python3",
      "display_name": "Python 3"
    },
    "language_info": {
      "name": "python"
    }
  },
  "cells": [
    {
      "cell_type": "code",
      "execution_count": 12,
      "metadata": {
        "colab": {
          "base_uri": "https://localhost:8080/"
        },
        "id": "nzgOKz_Nvb5L",
        "outputId": "ed572943-2bd9-4251-ce07-06148bcb9d71"
      },
      "outputs": [
        {
          "output_type": "stream",
          "name": "stdout",
          "text": [
            "請輸入\n",
            "身高(cm):160\n",
            "體重(kg):50\n",
            "BMI: 19.531249999999996\n",
            "體位:適中\n"
          ]
        }
      ],
      "source": [
        "a='請輸入'\n",
        "print(a)\n",
        "b=int(input('身高(cm):'))\n",
        "c=int(input('體重(kg):'))\n",
        "b/=100\n",
        "b*=b\n",
        "e=c/b\n",
        "f='BMI:'\n",
        "print(f,e)\n",
        "if e<18.5:\n",
        "  print('體位:過輕')\n",
        "elif e>=18.5 and e<24:\n",
        "  print('體位:適中')\n",
        "elif e>=24 and e<27:\n",
        "  print('體位:過重')\n",
        "else:\n",
        "  print('體位:肥胖')"
      ]
    },
    {
      "cell_type": "code",
      "source": [
        "a=float(input('請輸入第一個數字:'))\n",
        "b=(input('請輸入運算符號:'))\n",
        "c=float(input('請輸入第二個數字:'))\n",
        "if b=='+':\n",
        "  d=a+c\n",
        "  print(d)\n",
        "elif b==\"-\":\n",
        "  d=a-c\n",
        "  print(d)\n",
        "elif b==\"*\":\n",
        "  d=a*c\n",
        "  print(d)\n",
        "else:\n",
        "  d=a/c\n",
        "  print(d)"
      ],
      "metadata": {
        "colab": {
          "base_uri": "https://localhost:8080/"
        },
        "id": "9gj7llLl3FkA",
        "outputId": "5e3e0fb1-9ae1-449c-9815-24a0ca6740fb"
      },
      "execution_count": 17,
      "outputs": [
        {
          "output_type": "stream",
          "name": "stdout",
          "text": [
            "請輸入第一個數字:8\n",
            "請輸入運算符號:/\n",
            "請輸入第二個數字:2\n",
            "4.0\n"
          ]
        }
      ]
    }
  ]
}