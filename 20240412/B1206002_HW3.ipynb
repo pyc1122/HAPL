{
  "nbformat": 4,
  "nbformat_minor": 0,
  "metadata": {
    "colab": {
      "provenance": []
    },
    "kernelspec": {
      "name": "python3",
      "display_name": "Python 3"
    },
    "language_info": {
      "name": "python"
    }
  },
  "cells": [
    {
      "cell_type": "code",
      "execution_count": 13,
      "metadata": {
        "colab": {
          "base_uri": "https://localhost:8080/"
        },
        "id": "BWsH1JDB866L",
        "outputId": "cdc77382-ef0c-45d5-d76e-f1724ab3e289"
      },
      "outputs": [
        {
          "output_type": "stream",
          "name": "stdout",
          "text": [
            "請輸入年份:2000\n",
            "閏年\n"
          ]
        }
      ],
      "source": [
        "a=int(input('請輸入年份:'))\n",
        "if a<=1582:\n",
        "  if a%4==0:\n",
        "    print('閏年')\n",
        "  else:\n",
        "    print('平年')\n",
        "elif a>1582:\n",
        "  if a%4==0:\n",
        "    if a%400==0:\n",
        "      print('閏年')\n",
        "    elif a%100==0:\n",
        "       print('平年')\n",
        "    else:\n",
        "      print('閏年')\n",
        "  else:\n",
        "    print('平年')"
      ]
    }
  ]
}