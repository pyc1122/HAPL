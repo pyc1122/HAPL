{
  "nbformat": 4,
  "nbformat_minor": 0,
  "metadata": {
    "colab": {
      "provenance": []
    },
    "kernelspec": {
      "name": "python3",
      "display_name": "Python 3"
    },
    "language_info": {
      "name": "python"
    }
  },
  "cells": [
    {
      "cell_type": "code",
      "execution_count": 6,
      "metadata": {
        "colab": {
          "base_uri": "https://localhost:8080/"
        },
        "id": "0pYywJkrsjR7",
        "outputId": "70c6f62b-e0fa-44be-9cf8-04b89b2649f2"
      },
      "outputs": [
        {
          "output_type": "stream",
          "name": "stdout",
          "text": [
            "A\n",
            "['K', 'H', 'U']\n"
          ]
        }
      ],
      "source": [
        "a='C,B,A'\n",
        "b=['F','G','H']\n",
        "c=a.split(',')\n",
        "c.extend(b)\n",
        "c[0]='K'\n",
        "d=c.pop(2)\n",
        "print(d)\n",
        "del c[1:4]\n",
        "c.append('U')\n",
        "print(c)"
      ]
    },
    {
      "cell_type": "code",
      "source": [
        "a=(input('請輸入一個八位數的數字'))\n",
        "print(a[4])"
      ],
      "metadata": {
        "colab": {
          "base_uri": "https://localhost:8080/"
        },
        "id": "n0txXVRf23DJ",
        "outputId": "d62bace0-35f8-400d-c244-07a1b4e995be"
      },
      "execution_count": 11,
      "outputs": [
        {
          "output_type": "stream",
          "name": "stdout",
          "text": [
            "請輸入一個八位數的數字12345678\n",
            "5\n"
          ]
        }
      ]
    },
    {
      "cell_type": "code",
      "source": [
        "a='My ID is B1206002'\n",
        "b=a.split()\n",
        "print(len(b))\n",
        "print(len(b[3]))"
      ],
      "metadata": {
        "colab": {
          "base_uri": "https://localhost:8080/"
        },
        "id": "e0B5xfLS5T5Z",
        "outputId": "9a895865-149f-45a7-a9f6-71c70903401b"
      },
      "execution_count": 19,
      "outputs": [
        {
          "output_type": "stream",
          "name": "stdout",
          "text": [
            "4\n",
            "8\n"
          ]
        }
      ]
    },
    {
      "cell_type": "code",
      "source": [
        "a=\"I'm a student\"\n",
        "b=a.split()\n",
        "print(b[0][2])\n"
      ],
      "metadata": {
        "colab": {
          "base_uri": "https://localhost:8080/"
        },
        "id": "h30KxvcT7u_p",
        "outputId": "c5162d9c-6450-4dad-9b43-a6d76eeb94c0"
      },
      "execution_count": 23,
      "outputs": [
        {
          "output_type": "stream",
          "name": "stdout",
          "text": [
            "m\n"
          ]
        }
      ]
    }
  ]
}