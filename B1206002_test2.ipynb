{
  "nbformat": 4,
  "nbformat_minor": 0,
  "metadata": {
    "colab": {
      "provenance": []
    },
    "kernelspec": {
      "name": "python3",
      "display_name": "Python 3"
    },
    "language_info": {
      "name": "python"
    }
  },
  "cells": [
    {
      "cell_type": "markdown",
      "source": [
        "(2x+y)(100-y) | x=2, y=1"
      ],
      "metadata": {
        "id": "RQK7N4Xdr2R3"
      }
    },
    {
      "cell_type": "code",
      "execution_count": null,
      "metadata": {
        "colab": {
          "base_uri": "https://localhost:8080/"
        },
        "id": "uTZm2z4VqaiM",
        "outputId": "59546c42-3bc3-47f9-b1e0-c08b2f6e8bf5"
      },
      "outputs": [
        {
          "output_type": "stream",
          "name": "stdout",
          "text": [
            "Ans.is =  495\n"
          ]
        }
      ],
      "source": [
        "x=2\n",
        "y=1\n",
        "a=2*x+y\n",
        "b=100-y\n",
        "z=a*b\n",
        "print(\"Ans.is = \",z)"
      ]
    },
    {
      "cell_type": "markdown",
      "source": [
        "100/(2y+1) | y=4"
      ],
      "metadata": {
        "id": "kTGH7_hPsix3"
      }
    },
    {
      "cell_type": "code",
      "source": [
        "y=4\n",
        "z=100/(2*y+1)\n",
        "print(\"Ans.is = \",z)"
      ],
      "metadata": {
        "colab": {
          "base_uri": "https://localhost:8080/"
        },
        "id": "92hW_3B0rvRD",
        "outputId": "c0cd33ec-c1ee-47d1-cd7f-5a5233c063d2"
      },
      "execution_count": null,
      "outputs": [
        {
          "output_type": "stream",
          "name": "stdout",
          "text": [
            "Ans.is =  11.11111111111111\n"
          ]
        }
      ]
    }
  ]
}