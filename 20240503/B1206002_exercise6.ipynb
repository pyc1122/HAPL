{
  "nbformat": 4,
  "nbformat_minor": 0,
  "metadata": {
    "colab": {
      "provenance": []
    },
    "kernelspec": {
      "name": "python3",
      "display_name": "Python 3"
    },
    "language_info": {
      "name": "python"
    }
  },
  "cells": [
    {
      "cell_type": "code",
      "execution_count": 4,
      "metadata": {
        "colab": {
          "base_uri": "https://localhost:8080/"
        },
        "id": "3B27yiHz8C6P",
        "outputId": "4114d800-f0af-4a83-fbf6-39252dd21535"
      },
      "outputs": [
        {
          "output_type": "stream",
          "name": "stdout",
          "text": [
            "聖誕樹層數:9\n",
            "         *\n",
            "        ***\n",
            "       *****\n",
            "      *******\n",
            "     *********\n",
            "    ***********\n",
            "   *************\n",
            "  ***************\n",
            " *****************\n",
            "        ***\n",
            "        ***\n",
            "        ***\n",
            "        ***\n",
            "        ***\n"
          ]
        }
      ],
      "source": [
        "tree_height=int(input('聖誕樹層數:'))\n",
        "def draw_christmas_tree(height):\n",
        "  for i in range(height):\n",
        "    print(' '*(height-i-1),'*'*(2*i+1))\n",
        "  for j in range(5):\n",
        "    print(' '*(height-2),'***')\n",
        "draw_christmas_tree(tree_height)"
      ]
    },
    {
      "cell_type": "code",
      "source": [
        "def calculate_bmi(height,weight):\n",
        "  height=float(height)/100\n",
        "  weight=float(weight)\n",
        "  bmi=weight/(height**2)\n",
        "  return bmi\n",
        "def interpret_bmi(bmi):\n",
        "  if bmi<18.5:\n",
        "    return'過輕'\n",
        "  elif bmi<24:\n",
        "    return'適中'\n",
        "  elif bmi<27:\n",
        "    return'過重'\n",
        "  else:\n",
        "    return'肥胖'\n",
        "try:\n",
        "  height=int(input('身高(公分):'))\n",
        "  weight=int(input('體重:'))\n",
        "  bmi=calculate_bmi(height,weight)\n",
        "  print('BMI:',str(bmi))\n",
        "  print('體位:',interpret_bmi(bmi))\n",
        "except:\n",
        "  print('輸入內容錯誤')"
      ],
      "metadata": {
        "colab": {
          "base_uri": "https://localhost:8080/"
        },
        "id": "L7zvTcZGHWYR",
        "outputId": "c9d0ea0a-c0c7-47c0-8e26-3d6db78887fe"
      },
      "execution_count": 12,
      "outputs": [
        {
          "output_type": "stream",
          "name": "stdout",
          "text": [
            "身高(公分):180\n",
            "體重:*\n",
            "輸入內容錯誤\n"
          ]
        }
      ]
    }
  ]
}