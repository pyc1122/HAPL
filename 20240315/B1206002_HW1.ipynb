{
  "nbformat": 4,
  "nbformat_minor": 0,
  "metadata": {
    "colab": {
      "provenance": []
    },
    "kernelspec": {
      "name": "python3",
      "display_name": "Python 3"
    },
    "language_info": {
      "name": "python"
    }
  },
  "cells": [
    {
      "cell_type": "code",
      "execution_count": null,
      "metadata": {
        "colab": {
          "base_uri": "https://localhost:8080/"
        },
        "id": "h0rAJL_y6CHh",
        "outputId": "a114b9fa-4789-4805-8b97-ebc36514faac"
      },
      "outputs": [
        {
          "output_type": "stream",
          "name": "stdout",
          "text": [
            "I'm a student\n"
          ]
        }
      ],
      "source": [
        "a=\"I'm a student\"\n",
        "print(a)"
      ]
    },
    {
      "cell_type": "code",
      "source": [
        "a='請輸入座標A(x1,y1),B(x2,y2)'\n",
        "print(a)\n",
        "b=int(input('x1='))\n",
        "c=int(input('y1='))\n",
        "d=int(input('x2='))\n",
        "e=int(input('y2='))\n",
        "f=((d-b)**2+(e-c)**2)**(1/2)\n",
        "print(f)"
      ],
      "metadata": {
        "id": "iEDX32Mz6iet",
        "colab": {
          "base_uri": "https://localhost:8080/"
        },
        "outputId": "d1b6dfad-4bb0-4eee-bdd5-70e3498b40d7"
      },
      "execution_count": null,
      "outputs": [
        {
          "output_type": "stream",
          "name": "stdout",
          "text": [
            "請輸入座標A(x1,y1),B(x2,y2)\n",
            "x1=1\n",
            "y1=2\n",
            "x2=2\n",
            "y2=3\n",
            "1.4142135623730951\n"
          ]
        }
      ]
    },
    {
      "cell_type": "code",
      "source": [
        "a='請輸入'\n",
        "print(a)\n",
        "b=int(input('身高(cm):'))\n",
        "c=int(input('體重(kg):'))\n",
        "b/=100\n",
        "b*=b\n",
        "e=c/b\n",
        "print(e)"
      ],
      "metadata": {
        "colab": {
          "base_uri": "https://localhost:8080/"
        },
        "id": "RJ2OVezq2uJn",
        "outputId": "02d7c98e-27c8-43df-f558-f56fb025aaee"
      },
      "execution_count": 24,
      "outputs": [
        {
          "output_type": "stream",
          "name": "stdout",
          "text": [
            "請輸入\n",
            "身高(cm):160\n",
            "體重(kg):50\n",
            "19.531249999999996\n"
          ]
        }
      ]
    }
  ]
}